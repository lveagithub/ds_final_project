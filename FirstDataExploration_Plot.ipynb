{
 "cells": [
  {
   "cell_type": "markdown",
   "metadata": {},
   "source": [
    "## Plot methods"
   ]
  },
  {
   "cell_type": "code",
   "execution_count": null,
   "metadata": {},
   "outputs": [],
   "source": [
    "import matplotlib.pyplot as plt\n",
    "import seaborn as sns\n",
    "from statsmodels.graphics.gofplots import qqplot"
   ]
  },
  {
   "cell_type": "markdown",
   "metadata": {},
   "source": [
    "### General plot"
   ]
  },
  {
   "cell_type": "code",
   "execution_count": null,
   "metadata": {},
   "outputs": [],
   "source": [
    "def count_countplot(df, x_var, ax_title):\n",
    "    '''\n",
    "        Custom Countplot\n",
    "    '''\n",
    "    sns.set(style=\"whitegrid\")\n",
    "        \n",
    "    # Initialize the matplotlib figure\n",
    "    f, ax = plt.subplots(figsize=(8, 8))\n",
    "    \n",
    "    sns.set_color_codes(\"pastel\")\n",
    "    \n",
    "    ax = sns.countplot(x=x_var, data=df,\n",
    "                   facecolor=(0, 0, 0, 0),linewidth=5,\n",
    "                   edgecolor=sns.color_palette(\"dark\", 3))\n",
    "    \n",
    "    sns.despine(offset=10, trim=True);\n",
    "    # Turns off grid on the left Axis.\n",
    "    ax.grid(False)\n",
    "    \n",
    "    ax.set_title(ax_title, fontsize=16)\n",
    "    \n",
    "    plt.show()"
   ]
  },
  {
   "cell_type": "code",
   "execution_count": null,
   "metadata": {},
   "outputs": [],
   "source": [
    "def image_display(pixels, labels, label, imgNumber = 0):\n",
    "    '''\n",
    "        Displaying images in grid of 1xn\n",
    "    '''\n",
    "    fig = plt.figure(figsize=(20,20))\n",
    "    label_index = np.where(np.array(labels) == label)\n",
    "    if imgNumber == 0:\n",
    "        #I defined 5 cols is a good presentation\n",
    "        totInx = len(label_index[0])\n",
    "        #print(totInx)\n",
    "        nrows = 1\n",
    "        #print(nrows)\n",
    "        ncols = round(totInx / 5)\n",
    "        subPlIdx = 1  # initialize plot counter\n",
    "        for idx, val in enumerate(range(totInx)):\n",
    "            if idx % nrows == 0:\n",
    "                #print(idx)\n",
    "                #print(subPlIdx)\n",
    "                print (nrows, ncols, subPlIdx)\n",
    "                #ax = fig.add_subplot(nrows, ncols, subPlIdx, xticks=[], yticks=[])\n",
    "                ax = plt.subplot(nrows, ncols, subPlIdx, xticks=[], yticks=[])\n",
    "                subPlIdx +=1\n",
    "                #ax = fig.add_subplot(1, len(label_index[0]), idx+1, xticks=[], yticks=[])\n",
    "            i = label_index[0][idx]\n",
    "            #print(idx)\n",
    "            #print(i)\n",
    "            ax.imshow(pixels[i].reshape(151,332), cmap='gray')\n",
    "            ax.set_title(str(labels[i]) + \"_\" + str(i))\n",
    "    else:\n",
    "        for idx, val in enumerate(range(imgNumber)):\n",
    "            i = label_index[0][idx]\n",
    "            ax = fig.add_subplot(1, imgNumber, idx+1, xticks=[], yticks=[])\n",
    "            ax.imshow(pixels[i].reshape(151,332), cmap='gray')\n",
    "            ax.set_title(str(labels[i]) + \"_\" + str(val))"
   ]
  },
  {
   "cell_type": "code",
   "execution_count": null,
   "metadata": {},
   "outputs": [],
   "source": [
    "def plot_3d_rgb_3axes_2(X, Y, Z1, Z2, Z3, title1, title2, title3, cmap1, cmap2, cmap3):\n",
    "    fig = plt.figure(figsize=(20, 8))\n",
    "    ax = fig.add_subplot(1, 3, 1, projection='3d')\n",
    "    __plot_3d_rgb_1ax(X, Y, Z1, title1, cmap1, fig, ax)\n",
    "    ax = fig.add_subplot(1, 3, 2, projection='3d')\n",
    "    __plot_3d_rgb_1ax(X, Y, Z2, title2, cmap2, fig, ax)\n",
    "    ax = fig.add_subplot(1, 3, 3, projection='3d')\n",
    "    __plot_3d_rgb_1ax(X, Y, Z3, title3, cmap3, fig, ax)\n",
    "    plt.show()"
   ]
  }
 ],
 "metadata": {
  "kernelspec": {
   "display_name": "Python 3",
   "language": "python",
   "name": "python3"
  },
  "language_info": {
   "codemirror_mode": {
    "name": "ipython",
    "version": 3
   },
   "file_extension": ".py",
   "mimetype": "text/x-python",
   "name": "python",
   "nbconvert_exporter": "python",
   "pygments_lexer": "ipython3",
   "version": "3.7.3"
  }
 },
 "nbformat": 4,
 "nbformat_minor": 2
}
